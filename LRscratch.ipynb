{
  "nbformat": 4,
  "nbformat_minor": 0,
  "metadata": {
    "colab": {
      "provenance": [],
      "authorship_tag": "ABX9TyPkK56uVElxKwLy2YKHuJHy",
      "include_colab_link": true
    },
    "kernelspec": {
      "name": "python3",
      "display_name": "Python 3"
    },
    "language_info": {
      "name": "python"
    }
  },
  "cells": [
    {
      "cell_type": "markdown",
      "metadata": {
        "id": "view-in-github",
        "colab_type": "text"
      },
      "source": [
        "<a href=\"https://colab.research.google.com/github/mateenshamsi/Animation-Nation/blob/master/LRscratch.ipynb\" target=\"_parent\"><img src=\"https://colab.research.google.com/assets/colab-badge.svg\" alt=\"Open In Colab\"/></a>"
      ]
    },
    {
      "cell_type": "code",
      "execution_count": null,
      "metadata": {
        "id": "5zX16cTCzQn4"
      },
      "outputs": [],
      "source": [
        "class LinearRegression:\n",
        "  def __init__(self):\n",
        "    self.m=None\n",
        "    self.b=None\n",
        "  def fit(self,x_train,y_train):\n",
        "    num=0\n",
        "    den=0\n",
        "    for i in range(x_train.shape[0]):\n",
        "      num=num+((x_train[i]-x_train.mean())*(y_train[i]-y_train.mean()))\n",
        "      den=den+((x_train[i]-x_train.mean())*(x_train[i]-x_train.mean()))\n",
        "    self.m=num/den\n",
        "    self.b=y_train.mean()-(self.m*x_train.mean())\n",
        "    print(self.m,self.b)\n",
        "  def predict(self,x_test):\n",
        "    print(x_test)\n",
        "    return self.m * x_test + self.b"
      ]
    },
    {
      "cell_type": "code",
      "source": [
        "import numpy as np\n",
        "import pandas as pd\n",
        "df=pd.read_csv('placement.csv')\n",
        "from sklearn.model_selection import train_test_split\n",
        "x=df.iloc[:,0].values\n",
        "y=df.iloc[:,1].values\n",
        "x_train,x_test,y_train,y_test = train_test_split(x,y,test_size=0.2,random_state=2)\n",
        "x_train.shape\n",
        "\n",
        "lr = LinearRegression()\n",
        "lr.fit(x_train,y_train)\n",
        "x_train.mean()\n",
        "x_test[0]\n",
        "print(lr.predict(x_test[0]))"
      ],
      "metadata": {
        "colab": {
          "base_uri": "https://localhost:8080/"
        },
        "id": "ltX7RVQqMCq6",
        "outputId": "c35936f4-7a6a-4819-f189-2a4c1fc36fd6"
      },
      "execution_count": null,
      "outputs": [
        {
          "output_type": "stream",
          "name": "stdout",
          "text": [
            "0.5579519734250721 -0.8961119222429152\n",
            "8.58\n",
            "3.891116009744203\n"
          ]
        }
      ]
    }
  ]
}